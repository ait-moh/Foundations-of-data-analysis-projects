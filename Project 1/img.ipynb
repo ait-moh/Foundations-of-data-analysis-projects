{
 "cells": [
  {
   "cell_type": "code",
   "execution_count": 1,
   "id": "b2b65b4d",
   "metadata": {},
   "outputs": [],
   "source": [
    "\n",
    "# Solution for task 2 (Image Classifier) of lab assignment for FDA WS22 by [NAME]\n",
    "# imports here\n",
    "import tensorflow as tf\n",
    "from tensorflow.keras import datasets, layers, models\n",
    "import matplotlib.pyplot as plt\n",
    "import numpy as np\n",
    "import pandas as pd\n",
    "from sklearn.preprocessing import OrdinalEncoder\n",
    "from sklearn.metrics import accuracy_score\n",
    "from sklearn.model_selection import train_test_split"
   ]
  },
  {
   "cell_type": "code",
   "execution_count": 2,
   "id": "b2cec629",
   "metadata": {},
   "outputs": [],
   "source": [
    "\n",
    "# define additional functions here\n",
    "\n",
    "\n",
    "def train_predict(X_train, y_train, X_test):\n",
    "\n",
    "    # check that the input has the correct shape\n",
    "    assert X_train.shape == (len(X_train), 784)\n",
    "    assert y_train.shape == (len(y_train), 1)\n",
    "    assert X_test.shape == (len(X_test), 784)\n",
    "\n",
    "    # --------------------------\n",
    "    # add your data preprocessing, model definition, training and prediction between these lines\n",
    "    \n",
    "    #data preprocessing-----------------------------------------\n",
    "    #if the inputs are not nd array \n",
    "    if str(type(X_train))!= \"<class 'numpy.ndarray'>\" :\n",
    "        X_train = X_train.to_numpy()\n",
    "        \n",
    "    if str(type(y_train))!= \"<class 'numpy.ndarray'>\" :\n",
    "        y_train = y_train.to_numpy()\n",
    "        \n",
    "    if str(type(X_test))!= \"<class 'numpy.ndarray'>\"  :\n",
    "        X_test = X_test.to_numpy()\n",
    "            \n",
    "    enc = OrdinalEncoder()\n",
    "    y_train = enc.fit_transform(y_train) \n",
    "\n",
    "    X_train = X_train.reshape(len(X_train),28,28,1)\n",
    "    X_test = X_test.reshape(len(X_test),28,28,1)\n",
    "    y_train = y_train.reshape(-1,)\n",
    "    \n",
    "\n",
    "    \n",
    "    X_train = X_train / 255.0\n",
    "    \n",
    "    #training---------------------------------------------------\n",
    "    cnn = models.Sequential([\n",
    "    layers.Conv2D(filters=32, kernel_size=(3, 3), activation='relu', input_shape=(28,28,1)),\n",
    "    layers.MaxPooling2D((2, 2)),\n",
    "    \n",
    "    layers.Conv2D(filters=64, kernel_size=(3, 3), activation='relu'),\n",
    "    layers.MaxPooling2D((2, 2)),\n",
    "\n",
    "    #layers.Dropout(0.2),\n",
    "    layers.Flatten(),\n",
    "    #layers.Dense(256, activation='relu'),\n",
    "    layers.Dense(200, activation='relu'),   \n",
    "    layers.Dense(94, activation='softmax')\n",
    "    ])\n",
    "    \n",
    "    cnn.compile(optimizer='adam',\n",
    "              loss='sparse_categorical_crossentropy',\n",
    "              metrics=['accuracy'])\n",
    "\n",
    "    cnn.fit(X_train, y_train, batch_size=32, epochs=6,validation_split=0.2)\n",
    "\n",
    "    \n",
    "    \n",
    "    #prediction------------------------------------------------\n",
    "    y_pred = np.argmax(cnn.predict(X_test), axis=1)\n",
    "\n",
    "    y_pred= y_pred.reshape(-1, 1)\n",
    "\n",
    "    y_pred = enc.inverse_transform(y_pred)\n",
    "\n",
    "\n",
    "    \n",
    "    # --------------------------\n",
    "\n",
    "    # test that the returned prediction has correct shape\n",
    "    assert y_pred.shape == (len(X_test),) or y_pred.shape == (len(X_test), 1)\n",
    "\n",
    "    return y_pred\n"
   ]
  },
  {
   "cell_type": "code",
   "execution_count": 3,
   "id": "d6b2dafc",
   "metadata": {},
   "outputs": [
    {
     "name": "stdout",
     "output_type": "stream",
     "text": [
      "Epoch 1/6\n"
     ]
    },
    {
     "name": "stderr",
     "output_type": "stream",
     "text": [
      "2022-12-01 22:26:29.551287: I tensorflow/core/platform/cpu_feature_guard.cc:193] This TensorFlow binary is optimized with oneAPI Deep Neural Network Library (oneDNN) to use the following CPU instructions in performance-critical operations:  SSE4.1 SSE4.2 AVX AVX2 FMA\n",
      "To enable them in other operations, rebuild TensorFlow with the appropriate compiler flags.\n"
     ]
    },
    {
     "name": "stdout",
     "output_type": "stream",
     "text": [
      "450/450 [==============================] - 8s 16ms/step - loss: 1.3949 - accuracy: 0.6497 - val_loss: 0.7270 - val_accuracy: 0.8028\n",
      "Epoch 2/6\n",
      "450/450 [==============================] - 7s 16ms/step - loss: 0.5819 - accuracy: 0.8327 - val_loss: 0.5534 - val_accuracy: 0.8494\n",
      "Epoch 3/6\n",
      "450/450 [==============================] - 7s 16ms/step - loss: 0.4490 - accuracy: 0.8624 - val_loss: 0.5297 - val_accuracy: 0.8472\n",
      "Epoch 4/6\n",
      "450/450 [==============================] - 7s 15ms/step - loss: 0.3694 - accuracy: 0.8800 - val_loss: 0.4999 - val_accuracy: 0.8594\n",
      "Epoch 5/6\n",
      "450/450 [==============================] - 7s 16ms/step - loss: 0.3151 - accuracy: 0.8935 - val_loss: 0.4689 - val_accuracy: 0.8689\n",
      "Epoch 6/6\n",
      "450/450 [==============================] - 7s 16ms/step - loss: 0.2660 - accuracy: 0.9071 - val_loss: 0.4813 - val_accuracy: 0.8656\n",
      "63/63 [==============================] - 0s 4ms/step\n",
      "0.8165\n"
     ]
    }
   ],
   "source": [
    "\n",
    "if __name__ == \"__main__\":\n",
    "    # load data (please load data like this and let every processing step happen inside the train_predict function)\n",
    "    # (change path if necessary)\n",
    "    X_train = pd.read_csv(\"X_train.csv\")\n",
    "    y_train = pd.read_csv(\"y_train.csv\")\n",
    "\n",
    "    # please put everything that you want to execute here! e.g.\n",
    "    X_train, X_test, y_train, y_test = train_test_split(X_train, y_train, test_size=.1, random_state=2)\n",
    "    prediction = train_predict(X_train,y_train,X_test)\n",
    "\n",
    "    print(accuracy_score(y_test, prediction))\n",
    "\n",
    "    \n",
    "    #X_train1, X_test1, y_train1, y_test1 = train_test_split(X_train, y_train, test_size=.1, random_state=None)\n",
    "    \n",
    "    #prediction = train_predict(X_train1, y_train1, X_test1)\n",
    "    \n",
    "    #print(\"Accuracy report:\\n\", classification_report(y_test1, prediction))"
   ]
  }
 ],
 "metadata": {
  "kernelspec": {
   "display_name": "Python 3 (ipykernel)",
   "language": "python",
   "name": "python3"
  },
  "language_info": {
   "codemirror_mode": {
    "name": "ipython",
    "version": 3
   },
   "file_extension": ".py",
   "mimetype": "text/x-python",
   "name": "python",
   "nbconvert_exporter": "python",
   "pygments_lexer": "ipython3",
   "version": "3.8.13"
  }
 },
 "nbformat": 4,
 "nbformat_minor": 5
}
